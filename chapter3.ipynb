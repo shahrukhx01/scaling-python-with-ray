{
 "cells": [
  {
   "cell_type": "markdown",
   "metadata": {},
   "source": [
    "## Essentials of Ray Remote Functions\n",
    "When you call a remote function, it immediately returns an ObjectRef (a future),\n",
    "which is a reference to a remote object. Ray creates and executes a task in the\n",
    "background on a separate worker process and writes the result when finished into the\n",
    "original reference. You can then call ray.get on the ObjectRef to obtain the value.\n",
    "Note that ray.get is a blocking method waiting for task execution to complete before\n",
    "returning the result."
   ]
  },
  {
   "cell_type": "markdown",
   "metadata": {},
   "source": [
    "## Remote Objects in Ray\n",
    "A remote object is just an object, which may be on another node. ObjectRefs are like\n",
    "pointers or IDs to objects that you can use to get the value from, or status of, the\n",
    "remote function. In addition to being created from remote function calls, you can\n",
    "also create ObjectRefs explicitly by using the ray.put function.\n"
   ]
  },
  {
   "cell_type": "markdown",
   "metadata": {},
   "source": [
    "The example converts the\n",
    "iterator to a list before passing it to ray.get. You need to do this when calling\n",
    "ray.get takes in a list of futures or an individual future.1\n",
    "The function waits until it has all the objects so it can return the list in order <br/><br/>\n",
    "\n",
    "As with regular Ray remote functions, it’s important to think\n",
    "about the amount of work done inside each remote invocation.\n",
    "For example, using ray.remote to compute factorials recursively\n",
    "will be slower than doing it locally since the work inside each\n",
    "function is small even though the overall work can be large. The\n",
    "exact amount of time depends on how busy your cluster is, but as a\n",
    "general rule, anything executed in under a few seconds without any\n",
    "special resources is not worth scheduling remotely"
   ]
  },
  {
   "cell_type": "markdown",
   "metadata": {},
   "source": [
    "## Remote Functions Lifecycle\n",
    "The invoking Ray process (called the owner) of a remote function schedules the\n",
    "execution of a submitted task and facilitates the resolution of the returned ObjectRef\n",
    "to its underlying value if needed. <br/><br/>\n",
    "On task submission, the owner waits for all dependencies (i.e., ObjectRef objects that\n",
    "were passed as an argument to the task) to become available before scheduling. The\n",
    "dependencies can be local or remote, and the owner considers the dependencies to be\n",
    "ready as soon as they are available anywhere in the cluster. When the dependencies\n",
    "are ready, the owner requests resources from the distributed scheduler to execute the\n",
    "task. Once resources are available, the scheduler grants the request and responds with\n",
    "the address of a worker that will execute the function.<br/><br/>\n",
    "At this point, the owner sends the task specification over gRPC to the worker. After\n",
    "executing the task, the worker stores the return values. If the return values are small\n",
    "(less than 100 KiB by default), the worker returns the values inline directly to the\n",
    "owner, which copies them to its in-process object store. If the return values are large,\n",
    "the worker stores the objects in its local shared memory store and replies to the\n",
    "owner, indicating that the objects are now in distributed memory. This allows the\n",
    "owner to refer to the objects without having to fetch the objects to its local node.\n",
    "When a task is submitted with an ObjectRef as its argument, the worker must resolve\n",
    "its value before it can start executing the task.<br/><br/>\n",
    "Tasks can end in an error. Ray distinguishes between two types of task errors:<br/><br/>\n",
    "**Application-level**<br/>\n",
    "In this scenario, the worker process is alive, but the task ends in an error (e.g., a\n",
    "task that throws an IndexError in Python).<br/><br/>\n",
    "**System-level**<br/>\n",
    "In this scenario, the worker process dies unexpectedly (e.g., a process that seg‐\n",
    "faults, or if the worker’s local Raylet dies).<br/><br/>\n",
    "Tasks that fail because of application-level errors are never retried. The exception\n",
    "is caught and stored as the return value of the task. Tasks that fail because of system-level errors may be automatically retried up to a specified number of attempts."
   ]
  },
  {
   "cell_type": "code",
   "execution_count": 33,
   "metadata": {},
   "outputs": [],
   "source": [
    "import ray\n",
    "import time\n",
    "import random\n",
    "\n",
    "\n",
    "things = list(range(20))\n",
    "things.sort(reverse=True)"
   ]
  },
  {
   "cell_type": "code",
   "execution_count": 20,
   "metadata": {},
   "outputs": [],
   "source": [
    "@ray.remote\n",
    "def remote_task(x):\n",
    " time.sleep(x)\n",
    " return x"
   ]
  },
  {
   "cell_type": "markdown",
   "metadata": {},
   "source": [
    "As you recall, the example remote function sleeps based on the input argument.\n",
    "Since the range is in ascending order, calling the remote function on it will result\n",
    "in futures that are completed in order. To ensure that the futures won’t complete\n",
    "in order, you will need to modify the list. One way you can do this is by calling\n",
    "things.sort(reverse=True) prior to mapping your remote function over things <br/><br/>\n",
    "To see the difference between using ray.get and ray.wait, you can write a function\n",
    "that collects the values from your futures with some time delay on each object to\n",
    "simulate business logic<br/><br/>\n",
    "The first option, not using ray.wait, is a bit simpler and cleaner to read, as shown in\n",
    "Example 3-2, but is not recommended for production use."
   ]
  },
  {
   "cell_type": "code",
   "execution_count": 21,
   "metadata": {},
   "outputs": [
    {
     "name": "stdout",
     "output_type": "stream",
     "text": [
      " Completed 19\n",
      " Completed 18\n",
      " Completed 17\n",
      " Completed 16\n",
      " Completed 15\n",
      " Completed 14\n",
      " Completed 13\n",
      " Completed 12\n",
      " Completed 11\n",
      " Completed 10\n",
      " Completed 9\n",
      " Completed 8\n",
      " Completed 7\n",
      " Completed 6\n",
      " Completed 5\n",
      " Completed 4\n",
      " Completed 3\n",
      " Completed 2\n",
      " Completed 1\n",
      " Completed 0\n"
     ]
    }
   ],
   "source": [
    "\n",
    "\"\"\" waits for all futures to complete in the order in which they were submitted. \n",
    "Wasteful when each remote future has different execution time. \n",
    "Hence, you'd be stuck atleast as long as the long running future.\n",
    "\"\"\"\n",
    "def in_order():\n",
    " # Make the futures\n",
    " futures = list(map(lambda x: remote_task.remote(x), things))\n",
    " values = ray.get(futures)\n",
    " for v in values:\n",
    "    print(f\" Completed {v}\")\n",
    "    time.sleep(1) # Business logic goes here\n",
    "   \n",
    "in_order()"
   ]
  },
  {
   "cell_type": "markdown",
   "metadata": {},
   "source": [
    "The second option is a bit more complex, as shown in Example 3-3. This works by\n",
    "calling ray.wait to find the next available future and iterating until all the futures\n",
    "have been completed. ray.wait returns two lists, one of the object references for\n",
    "completed tasks (of the size requested, which defaults to 1) and another list of the rest\n",
    "of the object references."
   ]
  },
  {
   "cell_type": "code",
   "execution_count": 24,
   "metadata": {},
   "outputs": [
    {
     "name": "stdout",
     "output_type": "stream",
     "text": [
      "Ready 1 rest 19\n",
      "completed value ObjectRef(e5b2fae6e42f6bbaffffffffffffffffffffffff0100000001000000), result 4\n",
      "Ready 1 rest 18\n",
      "completed value ObjectRef(96eec688321e7882ffffffffffffffffffffffff0100000001000000), result 5\n",
      "Ready 1 rest 17\n",
      "completed value ObjectRef(852304542258e48cffffffffffffffffffffffff0100000001000000), result 6\n",
      "Ready 1 rest 16\n",
      "completed value ObjectRef(74701ed4b46295a6ffffffffffffffffffffffff0100000001000000), result 3\n",
      "Ready 1 rest 15\n",
      "completed value ObjectRef(641105d6352e1cecffffffffffffffffffffffff0100000001000000), result 1\n",
      "Ready 1 rest 14\n",
      "completed value ObjectRef(f173ee62d1d97be7ffffffffffffffffffffffff0100000001000000), result 0\n",
      "Ready 1 rest 13\n",
      "completed value ObjectRef(b888db822d6cb570ffffffffffffffffffffffff0100000001000000), result 9\n",
      "Ready 1 rest 12\n",
      "completed value ObjectRef(7baaf72767944862ffffffffffffffffffffffff0100000001000000), result 8\n",
      "Ready 1 rest 11\n",
      "completed value ObjectRef(d0cc07993b31210dffffffffffffffffffffffff0100000001000000), result 11\n",
      "Ready 1 rest 10\n",
      "completed value ObjectRef(ad275f68456395deffffffffffffffffffffffff0100000001000000), result 12\n",
      "Ready 1 rest 9\n",
      "completed value ObjectRef(7657df3782a60d44ffffffffffffffffffffffff0100000001000000), result 7\n",
      "Ready 1 rest 8\n",
      "completed value ObjectRef(6ac4a45aa8263166ffffffffffffffffffffffff0100000001000000), result 14\n",
      "Ready 1 rest 7\n",
      "completed value ObjectRef(b53defeececf8bc6ffffffffffffffffffffffff0100000001000000), result 2\n",
      "Ready 1 rest 6\n",
      "completed value ObjectRef(648041369ca71979ffffffffffffffffffffffff0100000001000000), result 16\n",
      "Ready 1 rest 5\n",
      "completed value ObjectRef(1507e51846dad045ffffffffffffffffffffffff0100000001000000), result 17\n",
      "Ready 1 rest 4\n",
      "completed value ObjectRef(73566728519fd819ffffffffffffffffffffffff0100000001000000), result 15\n",
      "Ready 1 rest 3\n",
      "completed value ObjectRef(f5f7f1e698870db7ffffffffffffffffffffffff0100000001000000), result 19\n",
      "Ready 1 rest 2\n",
      "completed value ObjectRef(aa3d54fc8a66be91ffffffffffffffffffffffff0100000001000000), result 10\n",
      "Ready 1 rest 1\n",
      "completed value ObjectRef(3b9792828af13ad5ffffffffffffffffffffffff0100000001000000), result 18\n",
      "Ready 1 rest 0\n",
      "completed value ObjectRef(ccdb1ebee6211847ffffffffffffffffffffffff0100000001000000), result 13\n"
     ]
    }
   ],
   "source": [
    "\"\"\"performs lazy evaluation of futures in arbitrary order, \n",
    "which means it would wait until the completion of next future\n",
    " and pull results instead of waiting for all to complete, and\n",
    "will iterate until all the futures have been resolved.\n",
    "\"\"\"\n",
    "def as_available():\n",
    " # Make the futures\n",
    " futures = list(map(lambda x: remote_task.remote(x), things))\n",
    " # While we still have pending futures\n",
    " while len(futures) > 0:\n",
    "    ready_futures, rest_futures = ray.wait(futures)\n",
    "    print(f\"Ready {len(ready_futures)} rest {len(rest_futures)}\")\n",
    "    for id in ready_futures:\n",
    "        print(f'completed value {id}, result {ray.get(id)}')\n",
    "        time.sleep(1) # Business logic goes here\n",
    "    # We just need to wait on the ones that are not yet available\n",
    "    futures = rest_futures\n",
    "as_available()"
   ]
  },
  {
   "cell_type": "markdown",
   "metadata": {},
   "source": [
    "Running these functions side by side with timeit.time, you can see the difference\n",
    "in performance. It’s important to note that this performance improvement depends\n",
    "on how long the nonparallelized business logic (the logic in the loop) takes. If you’re\n",
    "just summing the results, using ray.get directly could be OK, but if you’re doing\n",
    "something more complex, you should use ray.wait. When we run this, we see that\n",
    "ray.wait performs roughly twice as fast. You can try varying the sleep times and see\n",
    "how it works out.<br/><br/>\n",
    "You may wish to specify one of the few optional parameters to ray.wait:<br/><br/>\n",
    "**num_returns**<br/><br/>\n",
    "The number of ObjectRef objects for Ray to wait for completion before return‐\n",
    "ing. You should set num_returns to less than or equal to the length of the input\n",
    "list of ObjectRef objects; otherwise, the function throws an exception.2 The\n",
    "default value is 1.<br/><br/>\n",
    "**timeout**<br/><br/>\n",
    "The maximum amount of time in seconds to wait before returning. This defaults\n",
    "to −1 (which is treated as infinite).<br/><br/>\n",
    "**fetch_local**<br/><br/>\n",
    "You can disable fetching of results by setting this to false if you are interested\n",
    "only in ensuring that the futures are completed."
   ]
  },
  {
   "cell_type": "markdown",
   "metadata": {},
   "source": [
    "Ray’s get and wait functions handle timeouts slightly differently. Ray doesn’t raise an\n",
    "exception on ray.wait when a timeout occurs; instead, it simply returns fewer ready\n",
    "futures than num_returns. However, if ray.get encounters a timeout, Ray will raise a\n",
    "GetTimeoutError. Note that the return of the wait/get function does not mean that\n",
    "your remote function will be terminated; it will still run in the dedicated process. You\n",
    "can explicitly terminate your future (see the following tip) if you want to release the\n",
    "resources"
   ]
  },
  {
   "cell_type": "markdown",
   "metadata": {},
   "source": [
    "Since ray.wait can return results in any order, it’s essential to not\n",
    "depend on the order of the results. If you need to do different\n",
    "processing with different records (e.g., test a mix of group A and\n",
    "group B), you should encode this in the result (often with types)"
   ]
  },
  {
   "cell_type": "markdown",
   "metadata": {},
   "source": [
    "If you have a task that does not finish in a reasonable time (e.g., a straggler), you can\n",
    "cancel the task by using ray.cancel with the same ObjectRef used to wait/get. You\n",
    "can modify the previous ray.wait example to add a timeout and cancel any “bad”\n",
    "tasks, resulting in something like Example 3-4."
   ]
  },
  {
   "cell_type": "code",
   "execution_count": 30,
   "metadata": {},
   "outputs": [
    {
     "name": "stdout",
     "output_type": "stream",
     "text": [
      "completed value ObjectRef(ea19b1b85fbbce81ffffffffffffffffffffffff0100000001000000), result 1\n",
      "Timed out on [ObjectRef(4abf1de3f84b576dffffffffffffffffffffffff0100000001000000)]\n"
     ]
    }
   ],
   "source": [
    "import threading\n",
    "futures = list(map(lambda x: remote_task.remote(x), [1, threading.TIMEOUT_MAX]))\n",
    "# While we still have pending futures\n",
    "while len(futures) > 0:\n",
    " # In practice, 10 seconds is too short for most cases\n",
    " ready_futures, rest_futures = ray.wait(futures, timeout=10, num_returns=1)\n",
    " # If we get back anything less than num_returns \n",
    " if len(ready_futures) < 1:\n",
    "    print(f\"Timed out on {rest_futures}\")\n",
    "    # Canceling is a good idea for long-running, unneeded tasks\n",
    "    ray.cancel(*rest_futures)\n",
    "    # You should break since you exceeded your timeout\n",
    "    break\n",
    " for id in ready_futures:\n",
    "    print(f'completed value {id}, result {ray.get(id)}')\n",
    "    futures = rest_futures\n"
   ]
  },
  {
   "cell_type": "markdown",
   "metadata": {},
   "source": [
    "Canceling a task should not be part of your normal program flow.\n",
    "If you find yourself having to frequently cancel tasks, you should\n",
    "investigate what’s going on. Any subsequent calls to wait or get\n",
    "for a canceled task are unspecified and could raise an exception or\n",
    "return incorrect results.\n"
   ]
  },
  {
   "cell_type": "markdown",
   "metadata": {},
   "source": [
    "Another minor point that we skipped in the previous chapter is that while the\n",
    "examples so far return only a single value, Ray remote functions can return multiple\n",
    "values, as with regular Python functions"
   ]
  },
  {
   "cell_type": "markdown",
   "metadata": {},
   "source": [
    "Fault tolerance is an important consideration for those running in a distributed\n",
    "environment. Say the worker executing the task dies unexpectedly (because either the\n",
    "process crashed or the machine failed). Ray will rerun the task (after a delay) until\n",
    "either the task succeeds or the maximum number of retries is exceeded. We cover\n",
    "fault tolerance more in Chapter 5."
   ]
  },
  {
   "cell_type": "markdown",
   "metadata": {},
   "source": [
    "## Composition of Remote Ray Functions\n",
    "You can make your remote functions even more powerful by composing them.\n",
    "The two most common methods of composition with remote functions in Ray are\n",
    "**pipelining** and **nested parallelism**. You can compose your functions with nested\n",
    "parallelism to express recursive functions. Ray also allows you to express sequential\n",
    "dependencies without having to block or collect the result in the driver, known as\n",
    "pipelining.\n",
    "You can build a pipelined function by using ObjectRef objects from an earlier\n",
    "ray.remote as parameters for a new remote function call. Ray will automatically\n",
    "fetch the ObjectRef objects and pass the underlying objects to your function. This\n",
    "approach allows for easy coordination between the function invocations. Addition‐\n",
    "ally, such an approach minimizes data transfer; the result will be sent directly to the\n",
    "node where execution of the second remote function is executed. A simple example\n",
    "of such a sequential calculation is presented in Example 3-5."
   ]
  },
  {
   "cell_type": "code",
   "execution_count": 36,
   "metadata": {},
   "outputs": [
    {
     "name": "stdout",
     "output_type": "stream",
     "text": [
      "31\n"
     ]
    }
   ],
   "source": [
    "@ray.remote\n",
    "def generate_number(s: int, limit: int, sl: float) -> int :\n",
    " random.seed(s)\n",
    " time.sleep(sl)\n",
    " return random.randint(0, limit)\n",
    "@ray.remote\n",
    "def sum_values(v1: int, v2: int, v3: int) -> int :\n",
    " return v1+v2+v3\n",
    "# Get result\n",
    "print(ray.get(sum_values.remote(generate_number.remote(1, 10, .1),\n",
    " generate_number.remote(5, 20, .2), generate_number.remote(7, 15, .3))))"
   ]
  },
  {
   "cell_type": "markdown",
   "metadata": {},
   "source": [
    "This code defines two remote functions and then starts three instances of the first\n",
    "one. ObjectRef objects for all three instances are then used as input for the second\n",
    "function. In this case, Ray will wait for all three instances to complete before startingto execute sum_values. You can use this approach not only for passing data but\n",
    "also for expressing basic workflow style dependencies. There is no restriction on the\n",
    "number of ObjectRef objects you can pass, and you can also pass “normal” Python\n",
    "objects at the same time.\n"
   ]
  },
  {
   "cell_type": "markdown",
   "metadata": {},
   "source": [
    "You cannot use Python structures (for example, lists, dictionaries, or classes) contain‐\n",
    "ing ObjectRef instead of using ObjectRef directly. Ray waits for and resolves only\n",
    "ObjectRef objects that are passed directly to a function. If you attempt to pass a\n",
    "structure, you will have to do your own ray.wait and ray.get inside the function.\n",
    "Example 3-6 is a variation of Example 3-5 that does not work"
   ]
  },
  {
   "cell_type": "code",
   "execution_count": null,
   "metadata": {},
   "outputs": [],
   "source": []
  }
 ],
 "metadata": {
  "kernelspec": {
   "display_name": "ray",
   "language": "python",
   "name": "python3"
  },
  "language_info": {
   "codemirror_mode": {
    "name": "ipython",
    "version": 3
   },
   "file_extension": ".py",
   "mimetype": "text/x-python",
   "name": "python",
   "nbconvert_exporter": "python",
   "pygments_lexer": "ipython3",
   "version": "3.10.12"
  },
  "orig_nbformat": 4
 },
 "nbformat": 4,
 "nbformat_minor": 2
}
