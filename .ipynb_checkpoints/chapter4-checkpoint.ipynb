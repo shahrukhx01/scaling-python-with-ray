{
 "cells": [
  {
   "cell_type": "markdown",
   "id": "a2dbd9e4-846d-4ec6-849e-b48db7668c08",
   "metadata": {},
   "source": [
    "## Ray Actors\n",
    "Ray remote functions, which are useful for the parallel execution of stateless functions. But what if you need to maintain a state between invocations? Examples of such situations span from a simple counter to a neural network during training to a simulator environment. <br/><br/>\n",
    "\n",
    "One option for maintaining state in these situations is to return the state along with the result and pass it to the next call. Although technically this will work, this is not the best solution, because of the large amount of data that has to be passed around (especially as the size of the state starts to grow).<br/>\n",
    "\n",
    "In a nutshell, an actor is a computer process with an address (handle). This means\r\n",
    "that an actor can also store things in memory, private to the actor process. Before\r\n",
    "delving into the details of implementing and scaling Ray actors, let’s take a look\r\n",
    "at the concepts behind them. Actors come from the actor model design pattern.\r\n",
    "Understanding the actor model is key to effectively managing state and concurrency\n",
    "\n"
   ]
  },
  {
   "cell_type": "markdown",
   "id": "120073ed-f73e-42b9-af82-88e224c1c969",
   "metadata": {},
   "source": [
    "## Understanding the Actor Model\n",
    "\n",
    "The [actor model](https://mattferderer.com/what-is-the-actor-model-and-when-should-you-use-it) was introduced by Carl Hewitt in 1973 to deal with concurrent\r\n",
    "computation. The heart of this conceptual model is an actor, a universal primitive of\r\n",
    "concurrent computation with its stetate"
   ]
  },
  {
   "cell_type": "markdown",
   "id": "a4cd2401-f6d1-46af-8ba4-1afc9a7f3cf0",
   "metadata": {},
   "source": [
    "An actor has a simple job <br/>\n",
    "1. Store data\n",
    "2. Receive messages from other actor\n",
    "3. Pass messages to other actor\n",
    "4. Create additional child actorste"
   ]
  },
  {
   "cell_type": "markdown",
   "id": "d3992412-9420-4040-9c77-ab476931b6a6",
   "metadata": {},
   "source": [
    "The data that an actor stores is private to the actor and isn’t visible from outside;\r\n",
    "it can be accessed and modified only by the actor itself. Changing the actor’s state\r\n",
    "requires sending messages to the actor that will modify the state. (Compare this to\r\n",
    "using method calls in object-oriented programmi.)\r"
   ]
  },
  {
   "cell_type": "markdown",
   "id": "835a21a1-1444-435c-b407-5ad6414976f3",
   "metadata": {},
   "source": [
    "To ensure an actor’s state consistency, actors process one request at a time. All actor\r\n",
    "method invocations are globally serialized for a given actor. To improve throughput,\r\n",
    "people often create a pool of actors (assuming they can shard or replicate the actor’s\r\n",
    "stas remote actors"
   ]
  },
  {
   "cell_type": "markdown",
   "id": "d141d4d5-b4b3-4615-9e23-d46cd7f06207",
   "metadata": {},
   "source": [
    "The actor model is a good fit for many distributed system scenarios. Here are some\n",
    "typical use cases where the actor model can be advantageous:"
   ]
  },
  {
   "cell_type": "markdown",
   "id": "d72d24eb-7278-4495-8273-9306db99abd5",
   "metadata": {},
   "source": [
    "- You need to deal with a large distributed state that is hard to synchronize\n",
    "between invocations.\n",
    "- You want to work with single-threaded objects that do not require significant\n",
    "interaction from external components."
   ]
  },
  {
   "cell_type": "markdown",
   "id": "38c5d45b-8893-4e20-88fc-b4351d1bdb2a",
   "metadata": {},
   "source": [
    "In both situations, you would implement the standalone parts of the work inside an\n",
    "actor. You can put each piece of independent state inside its own actor, and then any\n",
    "changes to the state come in through the actor. Most actor system implementations\n",
    "avoid concurrency issues by using only single-threaded actors.\n",
    "Now that you know the general principles of the actor model, let’s take a closer look at\n",
    "Ray’s remote actors"
   ]
  },
  {
   "cell_type": "markdown",
   "id": "4a510baf-0fc2-489a-9d7e-050cdc98cc75",
   "metadata": {},
   "source": [
    "### Creating a Basic Ray Remote Actor (E1)\n",
    "Ray implements remote actors as stateful workers. When you create a new remote\r\n",
    "actor, Ray creates a new worker and schedules the actor’s methods on that worker."
   ]
  },
  {
   "cell_type": "markdown",
   "id": "f731466f-c003-46f2-9e6d-a5714a113581",
   "metadata": {},
   "source": [
    "A common example of an actor is a bank account. Let’s take a look at how to\r\n",
    "implement an account by using Ray remote actors. Creating a Ray remote actor is as\r\n",
    "simple as decorating a Python class with the @ray.remote decorator"
   ]
  },
  {
   "cell_type": "code",
   "execution_count": 1,
   "id": "d8bbf73a-1fe9-42a8-a2fd-d99450a40636",
   "metadata": {},
   "outputs": [
    {
     "name": "stderr",
     "output_type": "stream",
     "text": [
      "2023-11-12 15:43:55,821\tINFO worker.py:1642 -- Started a local Ray instance.\n"
     ]
    },
    {
     "data": {
      "application/vnd.jupyter.widget-view+json": {
       "model_id": "3cfb0bc9422848fa9887dad9711c4f99",
       "version_major": 2,
       "version_minor": 0
      },
      "text/html": [
       "<div class=\"lm-Widget p-Widget lm-Panel p-Panel jp-Cell-outputWrapper\">\n",
       "    <div style=\"margin-left: 50px;display: flex;flex-direction: row;align-items: center\">\n",
       "        <div class=\"jp-RenderedHTMLCommon\" style=\"display: flex; flex-direction: row;\">\n",
       "  <svg viewBox=\"0 0 567 224\" fill=\"none\" xmlns=\"http://www.w3.org/2000/svg\" style=\"height: 3em;\">\n",
       "    <g clip-path=\"url(#clip0_4338_178347)\">\n",
       "        <path d=\"M341.29 165.561H355.29L330.13 129.051C345.63 123.991 354.21 112.051 354.21 94.2307C354.21 71.3707 338.72 58.1807 311.88 58.1807H271V165.561H283.27V131.661H311.8C314.25 131.661 316.71 131.501 319.01 131.351L341.25 165.561H341.29ZM283.29 119.851V70.0007H311.82C331.3 70.0007 342.34 78.2907 342.34 94.5507C342.34 111.271 331.34 119.861 311.82 119.861L283.29 119.851ZM451.4 138.411L463.4 165.561H476.74L428.74 58.1807H416L367.83 165.561H380.83L392.83 138.411H451.4ZM446.19 126.601H398L422 72.1407L446.24 126.601H446.19ZM526.11 128.741L566.91 58.1807H554.35L519.99 114.181L485.17 58.1807H472.44L514.01 129.181V165.541H526.13V128.741H526.11Z\" fill=\"var(--jp-ui-font-color0)\"/>\n",
       "        <path d=\"M82.35 104.44C84.0187 97.8827 87.8248 92.0678 93.1671 87.9146C98.5094 83.7614 105.083 81.5067 111.85 81.5067C118.617 81.5067 125.191 83.7614 130.533 87.9146C135.875 92.0678 139.681 97.8827 141.35 104.44H163.75C164.476 101.562 165.622 98.8057 167.15 96.2605L127.45 56.5605C121.071 60.3522 113.526 61.6823 106.235 60.3005C98.9443 58.9187 92.4094 54.9203 87.8602 49.0574C83.3109 43.1946 81.0609 35.8714 81.5332 28.4656C82.0056 21.0599 85.1679 14.0819 90.4252 8.8446C95.6824 3.60726 102.672 0.471508 110.08 0.0272655C117.487 -0.416977 124.802 1.86091 130.647 6.4324C136.493 11.0039 140.467 17.5539 141.821 24.8501C143.175 32.1463 141.816 39.6859 138 46.0505L177.69 85.7505C182.31 82.9877 187.58 81.4995 192.962 81.4375C198.345 81.3755 203.648 82.742 208.33 85.3976C213.012 88.0532 216.907 91.9029 219.616 96.5544C222.326 101.206 223.753 106.492 223.753 111.875C223.753 117.258 222.326 122.545 219.616 127.197C216.907 131.848 213.012 135.698 208.33 138.353C203.648 141.009 198.345 142.375 192.962 142.313C187.58 142.251 182.31 140.763 177.69 138L138 177.7C141.808 184.071 143.155 191.614 141.79 198.91C140.424 206.205 136.44 212.75 130.585 217.313C124.731 221.875 117.412 224.141 110.004 223.683C102.596 223.226 95.6103 220.077 90.3621 214.828C85.1139 209.58 81.9647 202.595 81.5072 195.187C81.0497 187.779 83.3154 180.459 87.878 174.605C92.4405 168.751 98.9853 164.766 106.281 163.401C113.576 162.035 121.119 163.383 127.49 167.19L167.19 127.49C165.664 124.941 164.518 122.182 163.79 119.3H141.39C139.721 125.858 135.915 131.673 130.573 135.826C125.231 139.98 118.657 142.234 111.89 142.234C105.123 142.234 98.5494 139.98 93.2071 135.826C87.8648 131.673 84.0587 125.858 82.39 119.3H60C58.1878 126.495 53.8086 132.78 47.6863 136.971C41.5641 141.163 34.1211 142.972 26.7579 142.059C19.3947 141.146 12.6191 137.574 7.70605 132.014C2.79302 126.454 0.0813599 119.29 0.0813599 111.87C0.0813599 104.451 2.79302 97.2871 7.70605 91.7272C12.6191 86.1673 19.3947 82.5947 26.7579 81.6817C34.1211 80.7686 41.5641 82.5781 47.6863 86.7696C53.8086 90.9611 58.1878 97.2456 60 104.44H82.35ZM100.86 204.32C103.407 206.868 106.759 208.453 110.345 208.806C113.93 209.159 117.527 208.258 120.522 206.256C123.517 204.254 125.725 201.276 126.771 197.828C127.816 194.38 127.633 190.677 126.253 187.349C124.874 184.021 122.383 181.274 119.205 179.577C116.027 177.88 112.359 177.337 108.826 178.042C105.293 178.746 102.113 180.654 99.8291 183.44C97.5451 186.226 96.2979 189.718 96.3 193.32C96.2985 195.364 96.7006 197.388 97.4831 199.275C98.2656 201.163 99.4132 202.877 100.86 204.32ZM204.32 122.88C206.868 120.333 208.453 116.981 208.806 113.396C209.159 109.811 208.258 106.214 206.256 103.219C204.254 100.223 201.275 98.0151 197.827 96.97C194.38 95.9249 190.676 96.1077 187.348 97.4873C184.02 98.8669 181.274 101.358 179.577 104.536C177.879 107.714 177.337 111.382 178.041 114.915C178.746 118.448 180.653 121.627 183.439 123.911C186.226 126.195 189.717 127.443 193.32 127.44C195.364 127.443 197.388 127.042 199.275 126.259C201.163 125.476 202.878 124.328 204.32 122.88ZM122.88 19.4205C120.333 16.8729 116.981 15.2876 113.395 14.9347C109.81 14.5817 106.213 15.483 103.218 17.4849C100.223 19.4868 98.0146 22.4654 96.9696 25.9131C95.9245 29.3608 96.1073 33.0642 97.4869 36.3922C98.8665 39.7202 101.358 42.4668 104.535 44.1639C107.713 45.861 111.381 46.4036 114.914 45.6992C118.447 44.9949 121.627 43.0871 123.911 40.301C126.195 37.515 127.442 34.0231 127.44 30.4205C127.44 28.3772 127.038 26.3539 126.255 24.4664C125.473 22.5788 124.326 20.8642 122.88 19.4205ZM19.42 100.86C16.8725 103.408 15.2872 106.76 14.9342 110.345C14.5813 113.93 15.4826 117.527 17.4844 120.522C19.4863 123.518 22.4649 125.726 25.9127 126.771C29.3604 127.816 33.0638 127.633 36.3918 126.254C39.7198 124.874 42.4664 122.383 44.1635 119.205C45.8606 116.027 46.4032 112.359 45.6988 108.826C44.9944 105.293 43.0866 102.114 40.3006 99.8296C37.5145 97.5455 34.0227 96.2983 30.42 96.3005C26.2938 96.3018 22.337 97.9421 19.42 100.86ZM100.86 100.86C98.3125 103.408 96.7272 106.76 96.3742 110.345C96.0213 113.93 96.9226 117.527 98.9244 120.522C100.926 123.518 103.905 125.726 107.353 126.771C110.8 127.816 114.504 127.633 117.832 126.254C121.16 124.874 123.906 122.383 125.604 119.205C127.301 116.027 127.843 112.359 127.139 108.826C126.434 105.293 124.527 102.114 121.741 99.8296C118.955 97.5455 115.463 96.2983 111.86 96.3005C109.817 96.299 107.793 96.701 105.905 97.4835C104.018 98.2661 102.303 99.4136 100.86 100.86Z\" fill=\"#00AEEF\"/>\n",
       "    </g>\n",
       "    <defs>\n",
       "        <clipPath id=\"clip0_4338_178347\">\n",
       "            <rect width=\"566.93\" height=\"223.75\" fill=\"white\"/>\n",
       "        </clipPath>\n",
       "    </defs>\n",
       "  </svg>\n",
       "</div>\n",
       "\n",
       "        <table class=\"jp-RenderedHTMLCommon\" style=\"border-collapse: collapse;color: var(--jp-ui-font-color1);font-size: var(--jp-ui-font-size1);\">\n",
       "    <tr>\n",
       "        <td style=\"text-align: left\"><b>Python version:</b></td>\n",
       "        <td style=\"text-align: left\"><b>3.10.13</b></td>\n",
       "    </tr>\n",
       "    <tr>\n",
       "        <td style=\"text-align: left\"><b>Ray version:</b></td>\n",
       "        <td style=\"text-align: left\"><b>2.7.1</b></td>\n",
       "    </tr>\n",
       "    \n",
       "</table>\n",
       "\n",
       "    </div>\n",
       "</div>\n"
      ],
      "text/plain": [
       "RayContext(dashboard_url='', python_version='3.10.13', ray_version='2.7.1', ray_commit='9f07c12615958c3af3760604f6dcacc4b3758a47', protocol_version=None)"
      ]
     },
     "execution_count": 1,
     "metadata": {},
     "output_type": "execute_result"
    }
   ],
   "source": [
    "import ray\n",
    "from os.path import exists\n",
    "\n",
    "\n",
    "# Start Ray\n",
    "ray.init()"
   ]
  },
  {
   "cell_type": "code",
   "execution_count": 2,
   "id": "b10f68e9-f476-4b42-be73-bf37bbd0bf3d",
   "metadata": {},
   "outputs": [],
   "source": [
    "@ray.remote\n",
    "class Account:\n",
    "    def __init__(self, balance: float, minimal_balance: float):\n",
    "        self.minimal = minimal_balance\n",
    "        if balance < minimal_balance:\n",
    "            raise Exception(\"Starting balance is less then minimal balance\")\n",
    "        self.balance = balance\n",
    "\n",
    "    def balance(self) -> float:\n",
    "        return self.balance\n",
    "\n",
    "    def deposit(self, amount: float) -> float:\n",
    "        if amount < 0:\n",
    "            raise Exception(\"Can not deposit negative amount\")\n",
    "        self.balance = self.balance + amount\n",
    "        return self.balance\n",
    "\n",
    "    def withdraw(self, amount: float) -> float:\n",
    "        if amount < 0:\n",
    "            raise Exception(\"Can not withdraw negative amount\")\n",
    "        balance = self.balance - amount\n",
    "        if balance < self.minimal:\n",
    "            raise Exception(\"Withdraw is not supported by current balance\")\n",
    "        self.balance = balance\n",
    "        return balance"
   ]
  },
  {
   "cell_type": "code",
   "execution_count": 3,
   "id": "7a95bfed-b9f3-4c51-b6dd-1043cdb69d0f",
   "metadata": {},
   "outputs": [],
   "source": [
    "account_actor = Account.remote(balance = 100.,minimal_balance=20.)"
   ]
  },
  {
   "cell_type": "code",
   "execution_count": 4,
   "id": "4079b74e-3520-4596-9a5a-c7604497fe29",
   "metadata": {},
   "outputs": [
    {
     "data": {
      "text/plain": [
       "ObjectRef(16310a0f0a45af5c11900b09deb2547c93801ca40100000001000000)"
      ]
     },
     "execution_count": 4,
     "metadata": {},
     "output_type": "execute_result"
    }
   ],
   "source": [
    "account_actor.deposit.remote(200)"
   ]
  },
  {
   "cell_type": "code",
   "execution_count": 5,
   "id": "6242768a-5fa8-4d7d-802d-f8253e22d12c",
   "metadata": {},
   "outputs": [
    {
     "data": {
      "text/plain": [
       "300.0"
      ]
     },
     "execution_count": 5,
     "metadata": {},
     "output_type": "execute_result"
    }
   ],
   "source": [
    "ray.get(account_actor.balance.remote())"
   ]
  },
  {
   "cell_type": "markdown",
   "id": "52a7bde8-818b-40f3-b967-0ddadebe88f0",
   "metadata": {},
   "source": [
    "### Throwing Exceptions in Ray Code (E2)\n",
    "In both Ray remote functions and actors, you can throw exceptions. This will cause a\r\n",
    "function/method throwing an exception to return immediately.\r\n",
    "In the case of remote actors, after the exception is thrown, the actor will continue\r\n",
    "running normally. You can use normal Python exception processing to deal with\r\n",
    "exceptions in the method invoker code (see the following explanation)."
   ]
  },
  {
   "cell_type": "markdown",
   "id": "8cdd2b10-7355-4f9e-aede-2a886f5a579a",
   "metadata": {},
   "source": [
    "Here, account_actor represents an actor handle. These handles play an important\r\n",
    "role in the actor’s lifecycle. Actor processes are terminated automatically when the\r\n",
    "initial actor handle goes out of scope in Python (note that in this case, the actor’s state\r\n",
    "is lost)"
   ]
  },
  {
   "cell_type": "markdown",
   "id": "20f45de0-708f-4c3c-aabf-4964a780abe7",
   "metadata": {},
   "source": [
    "### Actor Lifecycle\n",
    "\n",
    "Actor lifetimes and metadata (e.g., IP address and port) are managed by GCS service,\r\n",
    "which is currently a single point of failure. We cover the GCS in more detail in the\r\n",
    "next chapte nction invocation.\r"
   ]
  },
  {
   "cell_type": "markdown",
   "id": "41cd1afa-344a-4e0a-892b-209b63a71046",
   "metadata": {},
   "source": [
    "Each client of the actor may cache this metadata and use it to send tasks to the actor\n",
    "directly over gRPC without querying the GCS. When an actor is created in Python,\n",
    "the creating worker first synchronously registers the actor with the GCS. This ensures\n",
    "correctness in case the creating worker fails before the actor can be created. Once\n",
    "the GCS responds, the remainder of the actor creation process is asynchronous. The\n",
    "creating worker process queues locally a special task known as the actor creation\n",
    "task. This is similar to a normal nonactor task, except that its specified resources are\n",
    "acquired for the lifetime of the actor process. The creator asynchronously resolves\n",
    "the dependencies for the actor creation task and then sends it to the GCS service\n",
    "to be scheduled. Meanwhile, the Python call to create the actor immediately returns\n",
    "an actor handle that can be used even if the actor creation task has not yet been\n",
    "scheduled."
   ]
  },
  {
   "cell_type": "markdown",
   "id": "54b7b30c-0e74-4b47-829d-52834a4d5633",
   "metadata": {},
   "source": [
    "An actor’s method execution is similar to a remote task invocation: it is submitted\n",
    "directly to the actor process via gRPC, will not run until all ObjectRef dependencies\n",
    "have been resolved, and returns futures. Note that no resource allocation is required\n",
    "for an actor’s method invocation (it is performed during the actor’s creation), which\n",
    "makes them faster than remote function invocation.\n"
   ]
  },
  {
   "cell_type": "markdown",
   "id": "5222cd9f-25ee-4f9a-a6ae-d10e54f90cd7",
   "metadata": {},
   "source": [
    "**As with an ObjectRef, you can pass an actor handle as a parameter to another actor\r\n",
    "or Ray remote function or Python code**."
   ]
  },
  {
   "cell_type": "markdown",
   "id": "022f05d2-60a9-46f3-83f8-f5cd8c3495fb",
   "metadata": {},
   "source": [
    "Note that Example 4-1 uses the @ray.remote annotation to define an ordinary\n",
    "Python class as a Ray remote actor. Alternatively, instead of using an annotation,\n",
    "you can use `ray.remote(ClassName)` to convert a Python class into a remote actor"
   ]
  },
  {
   "cell_type": "code",
   "execution_count": 6,
   "id": "4a7ef20e-59d2-412d-96fd-92e9c8194fcb",
   "metadata": {},
   "outputs": [],
   "source": [
    "class Account:\n",
    "    def __init__(self, balance: float, minimal_balance: float):\n",
    "        self.minimal = minimal_balance\n",
    "        if balance < minimal_balance:\n",
    "            raise Exception(\"Starting balance is less then minimal balance\")\n",
    "        self.balance = balance\n",
    "\n",
    "    def balance(self) -> float:\n",
    "        return self.balance\n",
    "\n",
    "    def deposit(self, amount: float) -> float:\n",
    "        if amount < 0:\n",
    "            raise Exception(\"Can not deposit negative amount\")\n",
    "        self.balance = self.balance + amount\n",
    "        return self.balance\n",
    "\n",
    "    def withdraw(self, amount: float) -> float:\n",
    "        if amount < 0:\n",
    "            raise Exception(\"Can not withdraw negative amount\")\n",
    "        balance = self.balance - amount\n",
    "        if balance < self.minimal:\n",
    "            raise Exception(\"Withdraw is not supported by current balance\")\n",
    "        self.balance = balance\n",
    "        return balance"
   ]
  },
  {
   "cell_type": "code",
   "execution_count": 7,
   "id": "015eade9-05ff-4837-a6da-e0b4f9f21dc6",
   "metadata": {},
   "outputs": [],
   "source": [
    "Account = ray.remote(Account)\n",
    "account_actor = Account.remote(balance = 100.,minimal_balance=20.)"
   ]
  },
  {
   "cell_type": "markdown",
   "id": "058f2ee5-9ecd-4f3d-ae0b-a10bea598b4f",
   "metadata": {},
   "source": [
    "You can also create named actors "
   ]
  },
  {
   "cell_type": "code",
   "execution_count": 8,
   "id": "5e7773aa-459a-443a-932a-a41fe85348e8",
   "metadata": {},
   "outputs": [],
   "source": [
    "account_actor = Account.options(name='Account_named')\\\n",
    "    .remote(balance = 100.,minimal_balance=20.)"
   ]
  },
  {
   "cell_type": "markdown",
   "id": "d7fa6f37-6d9e-4268-a95d-9a2bd7300865",
   "metadata": {},
   "source": [
    "An actor’s lifetime can be decoupled from its handle being in scope, allowing an\n",
    "actor to persist even after the driver process exits. You can create a detached actor by\n",
    "specifying the lifetime parameter as detached "
   ]
  },
  {
   "cell_type": "code",
   "execution_count": 9,
   "id": "025b54e4-82fe-45b5-9562-707f9f8b31e2",
   "metadata": {},
   "outputs": [
    {
     "name": "stderr",
     "output_type": "stream",
     "text": [
      "2023-11-12 15:43:56,941\tWARNING worker.py:2058 -- It looks like you're creating a detached actor in an anonymous namespace. In order to access this actor in the future, you will need to explicitly connect to this namespace with ray.init(namespace=\"be90cf01-941c-48ec-b455-f63a292e2a99\", ...)\n"
     ]
    }
   ],
   "source": [
    "account_actor = Account.options(name='Account_detached', lifetime='detached')\\\n",
    "    .remote(balance = 100.,minimal_balance=20.)"
   ]
  },
  {
   "cell_type": "code",
   "execution_count": 10,
   "id": "02b4f270-1757-4eaf-adff-4b0d901396f0",
   "metadata": {},
   "outputs": [
    {
     "name": "stdout",
     "output_type": "stream",
     "text": [
      "Current balance 100.0\n",
      "New balance 60.0\n",
      "Oops! \u001b[36mray::Account.withdraw()\u001b[39m (pid=20537, ip=127.0.0.1, actor_id=289178062a141d9a3866121801000000, repr=<__main__.Account object at 0x105e43a60>)\n",
      "  File \"/var/folders/qj/nfsd826s231_h8sdz8nbsqqm0000gn/T/ipykernel_20511/2518221864.py\", line 19, in withdraw\n",
      "Exception: Can not withdraw negative amount occurred.\n",
      "New balance 90.0\n",
      "Actor(Account, 289178062a141d9a3866121801000000)\n"
     ]
    }
   ],
   "source": [
    "print(f\"Current balance {ray.get(account_actor.balance.remote())}\")\n",
    "print(f\"New balance {ray.get(account_actor.withdraw.remote(40.))}\")\n",
    "try:\n",
    "    print(f\"New balance {ray.get(account_actor.withdraw.remote(-40.))}\")\n",
    "except Exception as e:\n",
    "    print(f\"Oops! {e} occurred.\")\n",
    "\n",
    "print(f\"New balance {ray.get(account_actor.deposit.remote(30.))}\")\n",
    "\n",
    "print(ray.get_actor('Account_detached'))\n",
    "\n",
    "ray.kill(account_actor)\n",
    "\n",
    "# print(ray.get_actor('Account'))"
   ]
  },
  {
   "cell_type": "markdown",
   "id": "a3d5360d-846c-49b2-a5f5-a28b9cf02b8f",
   "metadata": {},
   "source": [
    "In theory, you can make an actor detached without specifying its name, but since\n",
    "ray.get_actor operates by name, detached actors make the most sense with a name.\n",
    "You should name your detached actors so you can access them, even after the actor’s\n",
    "handle is out of scope. The detached actor itself can own any other tasks and objects."
   ]
  },
  {
   "cell_type": "markdown",
   "id": "6deaeffc-e401-4267-9b64-7beae4ee7046",
   "metadata": {},
   "source": [
    "In addition, you can manually delete actors from inside an actor, using\n",
    "ray.actor.exit_actor, or by using an actor’s handle ray.kill(account_actor).\n",
    "This can be useful if you know that you do not need specific actors anymore and want\n",
    "to reclaim the resources"
   ]
  },
  {
   "cell_type": "markdown",
   "id": "c697c75e-815b-47c0-affc-12db89d844c7",
   "metadata": {},
   "source": [
    "As shown here, creating a basic Ray actor and managing its lifecycle is fairly easy,\n",
    "but what happens if the Ray node on which the actor is running goes down for\n",
    "some reason?\n",
    " The @ray.remote annotation allows you to specify two parameters that\n",
    "control behavior in this case:"
   ]
  },
  {
   "cell_type": "markdown",
   "id": "2455da30-bd5e-4148-bebd-c6ca4e3504d1",
   "metadata": {},
   "source": [
    "`max_restarts`<br/><br/>\n",
    "Specify the maximum number of times that the actor should be restarted when it\n",
    "dies unexpectedly. The minimum valid value is 0 (default), which indicates that\n",
    "the actor doesn’t need to be restarted. A value of -1 indicates that an actor should\n",
    "be restarted indefinitely."
   ]
  },
  {
   "cell_type": "markdown",
   "id": "b24f8670-c273-4499-9f1e-906b45dbf6d8",
   "metadata": {},
   "source": [
    "`max_task_retries`<br/><br/>\n",
    "Specifies the number of times to retry an actor’s task if the task fails because of\n",
    "a system error. If set to -1, the system will retry the failed task until the task\n",
    "succeeds, or the actor has reached its max_restarts limit. If set to n > 0, the\n",
    "system will retry the failed task up to n times, after which the task will throw a\n",
    "RayActorError exception upon ray.get."
   ]
  },
  {
   "cell_type": "markdown",
   "id": "9eaf4a70-db33-41b6-8265-5ea9f9670391",
   "metadata": {},
   "source": [
    "As further explained in the next chapter and in the Ray fault-tolerance documentation, when an actor is restarted, Ray will re-create its state by rerunning its constructor. Therefore, if a state was changed during the actor’s execution, it will be lost. To\n",
    "preserve such a state, an actor has to implement its custom persistence.\n"
   ]
  },
  {
   "cell_type": "markdown",
   "id": "bb400fbd-2c90-4bdc-9438-07a3dd7c7a14",
   "metadata": {},
   "source": [
    "In our example case, the actor’s state is lost on failure since we haven’t used actor\n",
    "persistence. This might be OK for some use cases but is not acceptable for others—\n",
    "see also the Ray documentation on design patterns. In the next section, you will learn\n",
    "how to programmatically implement custom actor persistence"
   ]
  },
  {
   "cell_type": "markdown",
   "id": "d0b9ebf6-df96-4165-ad7d-3a29cd90aa53",
   "metadata": {},
   "source": [
    "### Implementing the Actor’s Persistence (E3)\n",
    "In this implementation, the state is saved as a whole, which works well enough if the\r\n",
    "size of the state is relatively small and the state changes are relatively rare. Also, to\r\n",
    "keep our example simple, we use local disk persistence. In reality, for a distributed\r\n",
    "Ray case, you should consider using Network File System (NFS), Amazon Simple\r\n",
    "Storage Service (S3), or a database to enable access to the actor’s data from any node\r\n",
    "in the Ray cluster."
   ]
  },
  {
   "cell_type": "markdown",
   "id": "239c25e3-68ed-4af6-9b61-4963b84a5940",
   "metadata": {},
   "source": [
    "#### Actor’s Persistence with Event Sourcing\n",
    "Because the actor model defines an actor’s interactions through messages, another\r\n",
    "common approach to actor’s persistence used in many commercial implementations\r\n",
    "is event sourcing: persisting a state as a sequence of state-changing events. This\r\n",
    "approach is especially important when the size of the state is large and events are\r\n",
    "relatively small because it significantly decreases the amount of data saved for every\r\n",
    "actor’s invocation and consequently improves actors’ performance. This implementa‐\r\n",
    "tion can be arbitrarily complex and include various optimization techniques such as\r\n",
    "snapshotting"
   ]
  },
  {
   "cell_type": "code",
   "execution_count": 11,
   "id": "90df4fb1-5874-4c74-b790-69cf50e8badd",
   "metadata": {},
   "outputs": [
    {
     "name": "stdout",
     "output_type": "stream",
     "text": [
      "Current balance 100.0\n",
      "New balance 60.0\n",
      "New balance 130.0\n",
      "Actor(Account, 639de07e36f1018a080c09a001000000)\n",
      "Current balance 130.0\n"
     ]
    }
   ],
   "source": [
    "\n",
    "@ray.remote\n",
    "class Account:\n",
    "    def __init__(self, balance: float, minimal_balance: float, account_key: str, basedir: str = '.'):\n",
    "        self.basedir = basedir\n",
    "        self.key = account_key\n",
    "        if not self.restorestate():\n",
    "            if balance < minimal_balance:\n",
    "                raise Exception(\"Starting balance is less then minimal balance\")\n",
    "            self.balance = balance\n",
    "            self.minimal = minimal_balance\n",
    "            self.storestate()\n",
    "\n",
    "    def balance(self) -> float:\n",
    "        return self.balance\n",
    "\n",
    "    def deposit(self, amount: float) -> float:\n",
    "        if amount < 0:\n",
    "            raise Exception(\"Can not deposit negative amount\")\n",
    "        self.balance = self.balance + amount\n",
    "        self.storestate()\n",
    "        return self.balance\n",
    "\n",
    "    def withdraw(self, amount: float) -> float:\n",
    "        if amount < 0:\n",
    "            raise Exception(\"Can not withdraw negative amount\")\n",
    "        balance = self.balance - amount\n",
    "        if balance < self.minimal:\n",
    "            raise Exception(\"Withdraw is not supported by current balance\")\n",
    "        self.balance = balance\n",
    "        self.storestate()\n",
    "        return balance\n",
    "\n",
    "    def restorestate(self) -> bool:\n",
    "        if exists(self.basedir + '/' + self.key):\n",
    "            with open(self.basedir + '/' + self.key, \"rb\") as f:\n",
    "                bytes = f.read()\n",
    "            state = ray.cloudpickle.loads(bytes)\n",
    "            self.balance = state['balance']\n",
    "            self.minimal = state['minimal']\n",
    "            return True\n",
    "        else:\n",
    "            return False\n",
    "\n",
    "    def storestate(self):\n",
    "        bytes = ray.cloudpickle.dumps({'balance' : self.balance, 'minimal' : self.minimal})\n",
    "        with open(self.basedir + '/' + self.key, \"wb\") as f:\n",
    "            f.write(bytes)\n",
    "\n",
    "\n",
    "account_actor = Account.options(name='Account')\\\n",
    "    .remote(balance=100.,minimal_balance=20., account_key='1234567')\n",
    "\n",
    "\n",
    "print(f\"Current balance {ray.get(account_actor.balance.remote())}\")\n",
    "print(f\"New balance {ray.get(account_actor.withdraw.remote(40.))}\")\n",
    "print(f\"New balance {ray.get(account_actor.deposit.remote(70.))}\")\n",
    "\n",
    "print(ray.get_actor('Account'))\n",
    "\n",
    "ray.kill(account_actor)\n",
    "\n",
    "account_actor = Account.options(name='Account') \\\n",
    "    .remote(balance=100.,minimal_balance=20., account_key='1234567')\n",
    "\n",
    "print(f\"Current balance {ray.get(account_actor.balance.remote())}\")\n"
   ]
  },
  {
   "cell_type": "markdown",
   "id": "e96ac1a3-1a7e-4782-9946-b8ddf89df300",
   "metadata": {},
   "source": [
    "If we compare this implementation with the original in Example 4-1, we will notice\n",
    "several important changes"
   ]
  },
  {
   "cell_type": "markdown",
   "id": "c4fc4c56-d0b8-4e78-a444-e1a1dc35ccc6",
   "metadata": {},
   "source": [
    "1. Here the constructor has two additional parameters: account_key and basedir.\n",
    "The account key is a unique identifier for the account that is also used as the\n",
    "name of the persistence file. The basedir parameter indicates a base directory\n",
    "used for storing persistence files. When the constructor is invoked, we first\n",
    "check whether a persistent state for this account is saved, and if there is one, we\n",
    "ignore the passed-in balance and minimum balance and restore them from the\n",
    "persistence state.\n",
    "2. Two additional methods are added to the class: `store_state` and `restore_state`.\r\n",
    "The store_states is a method that stores an actor state into a file. State infor‐\r\n",
    "mation is represented as a dictionary with keys as names of the state elements\r\n",
    "and values as the state elements, values. We are using Ray’s implementation of\r\n",
    "cloud pickling to convert this dictionary to the byte string and then write this\r\n",
    "byte string to the file, defined by the account key and base directory. (Chapter 5\r\n",
    "provides a detailed discussion of cloud pickling.) The restore_states method\r\n",
    "restores the state from a file defined by an account key and base directory. The\r\n",
    "method reads a binary string from the file and uses Ray’s implementation of\r\n",
    "cloud pickling to convert it to the dictionary. Then it uses the content of the\r\n",
    "dictionary to populate \n",
    "3. Finally, both deposit and withdraw methods, which are changing the state, use\r\n",
    "the store_state method to update persistencethe state.\n"
   ]
  },
  {
   "cell_type": "markdown",
   "id": "3ded2162-b5ef-4366-b415-f51357a9e4ae",
   "metadata": {},
   "source": [
    "The implementation shown in Example works fine, but our account actor imple‐\r\n",
    "mentation now contains too much persistence-specific code and is tightly coupled\r\n",
    "to file persistence. A better solution is to separate persistence-specific code into a\r\n",
    "separate cl.4-8)."
   ]
  },
  {
   "cell_type": "markdown",
   "id": "246f4957-aab8-4ec4-bf9d-34bb45bc2e66",
   "metadata": {},
   "source": [
    "We start by creating an abstract class defining methods that have to be implemented\n",
    "by any persistence class"
   ]
  },
  {
   "cell_type": "code",
   "execution_count": 12,
   "id": "f83ebe8c-492a-4a8c-b687-3645818baf57",
   "metadata": {},
   "outputs": [],
   "source": [
    "class BasePersitence:\n",
    "    def exists(self, key:str) -> bool:\n",
    "        pass\n",
    "    def save(self, key: str, data: dict):\n",
    "        pass\n",
    "    def restore(self, key:str) -> dict:\n",
    "        pass"
   ]
  },
  {
   "cell_type": "markdown",
   "id": "6707b59b-60b8-4470-b9f7-18dc1458a0ff",
   "metadata": {},
   "source": [
    "This class defines all the methods that have to be implemented by a concrete persis‐\n",
    "tence implementation. With this in place, a file persistence class implementing base\n",
    "persistence can be defined as shown below"
   ]
  },
  {
   "cell_type": "code",
   "execution_count": 13,
   "id": "a577195f-8daf-4ab2-951f-1a4a39f96339",
   "metadata": {},
   "outputs": [],
   "source": [
    "class FilePersistence(BasePersitence):\n",
    "    def __init__(self, basedir: str = '.'):\n",
    "        self.basedir = basedir\n",
    "\n",
    "    def exists(self, key:str) -> bool:\n",
    "        return exists(self.basedir + '/' + key)\n",
    "\n",
    "    def save(self, key: str, data: dict):\n",
    "        bytes = ray.cloudpickle.dumps(data)\n",
    "        with open(self.basedir + '/' + key, \"wb\") as f:\n",
    "            f.write(bytes)\n",
    "\n",
    "    def restore(self, key:str) -> dict:\n",
    "        if not self.exists(key):\n",
    "            return None\n",
    "        else:\n",
    "            with open(self.basedir + '/' + key, \"rb\") as f:\n",
    "                bytes = f.read()\n",
    "            return ray.cloudpickle.loads(bytes)"
   ]
  },
  {
   "cell_type": "code",
   "execution_count": 14,
   "id": "d30af001-9d36-4313-9443-270880d1f701",
   "metadata": {},
   "outputs": [
    {
     "name": "stdout",
     "output_type": "stream",
     "text": [
      "Current balance 130.0\n",
      "New balance 90.0\n",
      "New balance 160.0\n",
      "Actor(Account, 1a671cbe86e4b10826bddaaa01000000)\n",
      "Current balance 160.0\n"
     ]
    }
   ],
   "source": [
    "@ray.remote\n",
    "class Account:\n",
    "    def __init__(self, balance: float, minimal_balance: float, account_key: str,\n",
    "                 persistence: BasePersitence):\n",
    "        self.persistence = persistence\n",
    "        self.key = account_key\n",
    "        if not self.restorestate():\n",
    "            if balance < minimal_balance:\n",
    "                raise Exception(\"Starting balance is less then minimal balance\")\n",
    "            self.balance = balance\n",
    "            self.minimal = minimal_balance\n",
    "            self.storestate()\n",
    "\n",
    "    def balance(self) -> float:\n",
    "        return self.balance\n",
    "\n",
    "    def deposit(self, amount: float) -> float:\n",
    "        if amount < 0:\n",
    "            raise Exception(\"Can not deposit negative amount\")\n",
    "        self.balance = self.balance + amount\n",
    "        self.storestate()\n",
    "        return self.balance\n",
    "\n",
    "    def withdraw(self, amount: float) -> float:\n",
    "        if amount < 0:\n",
    "            raise Exception(\"Can not withdraw negative amount\")\n",
    "        balance = self.balance - amount\n",
    "        if balance < self.minimal:\n",
    "            raise Exception(\"Withdraw is not supported by current balance\")\n",
    "        self.balance = balance\n",
    "        self.storestate()\n",
    "        return balance\n",
    "\n",
    "    def restorestate(self) -> bool:\n",
    "        state = self.persistence.restore(self.key)\n",
    "        if state != None:\n",
    "            self.balance = state['balance']\n",
    "            self.minimal = state['minimal']\n",
    "            return True\n",
    "        else:\n",
    "            return False\n",
    "\n",
    "    def storestate(self):\n",
    "        self.persistence.save(self.key,\n",
    "                    {'balance' : self.balance, 'minimal' : self.minimal})\n",
    "#end::actor[]\n",
    "\n",
    "account_actor = Account.options(name='Account_persisted').remote(balance=100.,minimal_balance=20.,\n",
    "                                    account_key='1234567', persistence=FilePersistence())\n",
    "\n",
    "\n",
    "print(f\"Current balance {ray.get(account_actor.balance.remote())}\")\n",
    "print(f\"New balance {ray.get(account_actor.withdraw.remote(40.))}\")\n",
    "print(f\"New balance {ray.get(account_actor.deposit.remote(70.))}\")\n",
    "\n",
    "print(ray.get_actor('Account_persisted'))\n",
    "\n",
    "ray.kill(account_actor)\n",
    "\n",
    "account_actor = Account.options(name='Account_persisted') .remote(balance=100.,minimal_balance=20.,\n",
    "                                    account_key='1234567', persistence=FilePersistence())\n",
    "\n",
    "print(f\"Current balance {ray.get(account_actor.balance.remote())}\")\n"
   ]
  },
  {
   "cell_type": "markdown",
   "id": "ff3972b1-2923-4e87-bb2b-0fc85203a7dd",
   "metadata": {},
   "source": [
    "Only the code changes from our original persistent actor implementation (Exam‐\r\n",
    "ple 4-7) are shown here. Note that the constructor is now taking the Base\r\n",
    "Persistence class, which allows for easily changing the persistence implementation\r\n",
    "without changing the actor’s code. Additionally, the restore_state and savestate\r\n",
    "methods are generalized to move all the persistence-specific code to the persistence\r\n",
    "cling actors."
   ]
  },
  {
   "cell_type": "markdown",
   "id": "57d83df8-da25-4f69-9b23-c562de17df34",
   "metadata": {},
   "source": [
    "This implementation is flexible enough to support different persistence implemen‐\n",
    "tations, but if a persistence implementation requires permanent connections to a\n",
    "persistence source (for example, a database connection), it can become unscalable by\n",
    "simultaneously maintaining too many connections. In this case, we can implement\n",
    "persistence as an additional actor. But this requires scaling of this actor. Let’s take a\n",
    "look at the options that Ray provides for scaling actors."
   ]
  },
  {
   "cell_type": "markdown",
   "id": "d3dd96e7-4d59-46ed-9e05-d7dd123fb540",
   "metadata": {},
   "source": [
    "### Scaling Ray Remote Actors (E4)\n",
    "The original actor model described earlier in this chapter typically assumes that\r\n",
    "actors are lightweight (e.g., contain a single piece of state) and do not require scalin or parallelization. In Ray and similar systems (including Akka), actors are often used\r\n",
    "for coarser-grained implementations and can require scalin..g"
   ]
  },
  {
   "cell_type": "markdown",
   "id": "983eebfb-1096-4f62-8ba7-0d98c4979654",
   "metadata": {},
   "source": [
    "As with Ray remote functions, you can scale actors both horizontally (across pro‐\r\n",
    "cesses/machines) with pools, or vertically (with more resources). “Resources / Vertical\r\n",
    "Scaling” rs how to request more resources, but for now, let’s focus on\r\n",
    "horizontal scaling."
   ]
  },
  {
   "cell_type": "markdown",
   "id": "92525eec-25f6-4002-9147-449d2a85a23f",
   "metadata": {},
   "source": [
    "You can add more processes for horizontal scaling with Ray’s actor pool, provided\r\n",
    "by the ray.util module. This class is similar to a multiprocessing pool and lets you\r\n",
    "schedule your tasks over a fixed pool of actors."
   ]
  },
  {
   "cell_type": "markdown",
   "id": "c195f65a-b858-471a-bc77-86e5cfd7b591",
   "metadata": {},
   "source": [
    "The actor pool effectively uses a fixed set of actors as a single entity and manages\n",
    "which actor in the pool gets the next request. Note that actors in the pool are still\n",
    "individual actors and their state is not merged. So this scaling option works only\n",
    "when an actor’s state is created in the constructor and does not change during the\n",
    "actor’s execution."
   ]
  },
  {
   "cell_type": "markdown",
   "id": "a3a7df6e-a206-4a05-ba38-8b2689dcde08",
   "metadata": {},
   "source": [
    "**The syntax of a pool-based execution is a lambda function that takes two parameters:\n",
    "an actor reference and a value to be submitted to the function. The limitation here\n",
    "is that the value is a single object. One of the solutions for functions with multiple\n",
    "parameters is to use a tuple that can contain an arbitrary number of components. The\n",
    "function itself is defined as a remote function on the required actor’s method**"
   ]
  },
  {
   "cell_type": "code",
   "execution_count": 15,
   "id": "6bc86f68-d010-4885-90fe-8b1399ab6418",
   "metadata": {},
   "outputs": [
    {
     "name": "stdout",
     "output_type": "stream",
     "text": [
      "Current balance 160.0\n",
      "New balance 120.0\n",
      "Oops! \u001b[36mray::Account.withdraw()\u001b[39m (pid=20545, ip=127.0.0.1, actor_id=abff495511dc9b235c2bb92601000000, repr=<__main__.Account object at 0x108a640a0>)\n",
      "  File \"/var/folders/qj/nfsd826s231_h8sdz8nbsqqm0000gn/T/ipykernel_20511/2965088667.py\", line 61, in withdraw\n",
      "Exception: Can not withdraw negative amount occurred.\n",
      "New balance 190.0\n",
      "\u001b[2m\u001b[36m(Account pid=20545)\u001b[0m Restoring state {'balance': 160.0, 'minimal': 20.0}\n",
      "Current balance 190.0\n"
     ]
    }
   ],
   "source": [
    "\n",
    "from ray.util import ActorPool\n",
    "\n",
    "class BasePersitence:\n",
    "    def exists(self, key:str) -> bool:\n",
    "        pass\n",
    "    def save(self, key: str, data: dict):\n",
    "        pass\n",
    "    def restore(self, key:str) -> dict:\n",
    "        pass\n",
    "\n",
    "@ray.remote\n",
    "class FilePersistence(BasePersitence):\n",
    "    def __init__(self, basedir: str = '.'):\n",
    "        self.basedir = basedir\n",
    "\n",
    "    def exists(self, key:str) -> bool:\n",
    "        return exists(self.basedir + '/' + key)\n",
    "\n",
    "    def save(self, keyvalue: ()):\n",
    "        bytes = ray.cloudpickle.dumps(keyvalue[1])\n",
    "        with open(self.basedir + '/' + keyvalue[0], \"wb\") as f:\n",
    "            f.write(bytes)\n",
    "\n",
    "    def restore(self, key:str) -> dict:\n",
    "        if self.exists(key):\n",
    "            with open(self.basedir + '/' + key, \"rb\") as f:\n",
    "                bytes = f.read()\n",
    "            return ray.cloudpickle.loads(bytes)\n",
    "        else:\n",
    "            return None\n",
    "\n",
    "#tag::persist_pool[]\n",
    "pool = ActorPool([\n",
    "    FilePersistence.remote(), FilePersistence.remote(), FilePersistence.remote()])\n",
    "\n",
    "@ray.remote\n",
    "class Account:\n",
    "    def __init__(self, balance: float, minimal_balance: float,\n",
    "                 account_key: str, persistence: ActorPool):\n",
    "        self.persistence = persistence\n",
    "        self.key = account_key\n",
    "        if not self.restorestate():\n",
    "            if balance < minimal_balance:\n",
    "                raise Exception(\"Starting balance is less then minimal balance\")\n",
    "            self.balance = balance\n",
    "            self.minimal = minimal_balance\n",
    "            self.storestate()\n",
    "\n",
    "    def balance(self) -> float:\n",
    "        return self.balance\n",
    "\n",
    "    def deposit(self, amount: float) -> float:\n",
    "        if amount < 0:\n",
    "            raise Exception(\"Can not deposit negative amount\")\n",
    "        self.balance = self.balance + amount\n",
    "        self.storestate()\n",
    "        return self.balance\n",
    "\n",
    "    def withdraw(self, amount: float) -> float:\n",
    "        if amount < 0:\n",
    "            raise Exception(\"Can not withdraw negative amount\")\n",
    "        balance = self.balance - amount\n",
    "        if balance < self.minimal:\n",
    "            raise Exception(\"Withdraw is not supported by current balance\")\n",
    "        self.balance = balance\n",
    "        self.storestate()\n",
    "        return balance\n",
    "\n",
    "    def restorestate(self) -> bool:\n",
    "        while(self.persistence.has_next()):\n",
    "            self.persistence.get_next()\n",
    "        self.persistence.submit(lambda a, v: a.restore.remote(v), self.key)\n",
    "        state = self.persistence.get_next()\n",
    "        if state != None:\n",
    "            print(f'Restoring state {state}')\n",
    "            self.balance = state['balance']\n",
    "            self.minimal = state['minimal']\n",
    "            return True\n",
    "        else:\n",
    "            return False\n",
    "\n",
    "    def storestate(self):\n",
    "        # asynce execution allows us to not wait for saving to finish\n",
    "        self.persistence.submit(\n",
    "            lambda a, v: a.save.remote(v),\n",
    "            (self.key,\n",
    "             {'balance' : self.balance, 'minimal' : self.minimal}))\n",
    "\n",
    "\n",
    "account_actor = Account.options(name='Account_scaled').remote(\n",
    "    balance=100.,minimal_balance=20.,\n",
    "    account_key='1234567', persistence=pool)\n",
    "#end::persist_pool[]\n",
    "\n",
    "print(f\"Current balance {ray.get(account_actor.balance.remote())}\")\n",
    "print(f\"New balance {ray.get(account_actor.withdraw.remote(40.))}\")\n",
    "\n",
    "try:\n",
    "    print(f\"New balance {ray.get(account_actor.withdraw.remote(-40.))}\")\n",
    "except Exception as e:\n",
    "    print(f\"Oops! {e} occurred.\")\n",
    "\n",
    "print(f\"New balance {ray.get(account_actor.deposit.remote(70.))}\")\n",
    "\n",
    "ray.kill(account_actor)\n",
    "\n",
    "account_actor = Account.options(name='Account_scaled').remote(balance=100.,minimal_balance=20.,\n",
    "                                                       account_key='1234567', persistence=pool)\n",
    "\n",
    "print(f\"Current balance {ray.get(account_actor.balance.remote())}\")\n"
   ]
  },
  {
   "cell_type": "markdown",
   "id": "bf8f6d8e-9fb1-457d-8032-024d69bc95d2",
   "metadata": {},
   "source": [
    "Only the code changes from our original implementation are shown here. The code\r\n",
    "starts by creating a pool of three identical file persistence actors, and then this pool is\r\n",
    "passed to an account implementation."
   ]
  },
  {
   "cell_type": "markdown",
   "id": "462a3450-094b-4e04-a070-8b52eb5a6377",
   "metadata": {},
   "source": [
    "An execution on the pool is asynchronous (it routes requests to one of the remote\n",
    "actors internally). This allows faster execution of the store_state method, which\n",
    "does not need the results from data storage. Here implementation is not waiting for\n",
    "the result’s state storage to complete; it just starts the execution. The restore_state\n",
    "method, on another hand, needs the result of pool invocation to proceed. A pool\n",
    "implementation internally manages the process of waiting for execution results to\n",
    "become ready and exposes this functionality through the get_next function (note\n",
    "that this is a blocking call). The pool’s implementation manages a queue of execution\n",
    "results (in the same order as the requests). Whenever we need to get a result from the\n",
    "pool, we therefore must first clear out the pool results queue to ensure that we get the\n",
    "right result"
   ]
  },
  {
   "cell_type": "markdown",
   "id": "c8c6aba0-3534-49c0-bc82-83add1ba308a",
   "metadata": {},
   "source": [
    "In addition to the multiprocessing-based scaling provided by the actor’s pool, Ray\n",
    "supports scaling of the actor’s execution through concurrency. Ray offers two types of\n",
    "concurrency within an actor: threading and async execution."
   ]
  },
  {
   "cell_type": "markdown",
   "id": "96113a2f-ed37-449d-b7da-eb5e1aad053d",
   "metadata": {},
   "source": [
    "When using concurrency inside actors, keep in mind that Python’s global interpreter\n",
    "lock (GIL) will allow only one thread of Python code running at once. Pure Python\n",
    "will not provide true parallelism. On another hand, if you invoke NumPy, Cython,\n",
    "TensorFlow, or PyTorch code, these libraries will release the GIL when calling into\n",
    "C/C++ functions. By overlapping the time waiting for I/O or working in native\n",
    "libraries, both threading and async actor execution can achieve some parallelism."
   ]
  },
  {
   "cell_type": "markdown",
   "id": "58d6d8dd-45a2-451b-a63a-7fb01d1fb3e3",
   "metadata": {},
   "source": [
    "The asyncio library can be thought of as cooperative multitasking: your code or\n",
    "library needs to explicitly signal that it is waiting on a result, and Python can go\n",
    "ahead and execute another task by explicitly switching execution context. asyncio\n",
    "works by having a single process running through an event loop and changing which\n",
    "task it is executing when a task yields/awaits. asyncio tends to have lower overhead\n",
    "than multithreaded execution and can be a little easier to reason about. Ray actors,\n",
    "but not remote functions, integrate with asyncio, allowing you to write asynchronous\n",
    "actor methods."
   ]
  },
  {
   "cell_type": "markdown",
   "id": "abde226e-2720-4834-86db-a3308037563f",
   "metadata": {},
   "source": [
    "You should use threaded execution when your code spends a lot of time blocking but\n",
    "not yielding control by calling await. Threads are managed by the operating system\n",
    "deciding when to run which thread. Using threaded execution can involve fewer code\n",
    "changes, as you do not need to explicitly indicate where your code is yielding. This\n",
    "can also make threaded execution more difficult to reason about"
   ]
  },
  {
   "cell_type": "markdown",
   "id": "e21a377a-5e04-48af-8457-3e445d6341f1",
   "metadata": {},
   "source": [
    "You need to be careful and selectively use locks when accessing or modifying objects\n",
    "with both threads and asyncio. In both approaches, your objects share the same\n",
    "memory. By using locks, you ensure that only one thread or task can access the\n",
    "specific memory. Locks have some overhead (which increases as more processes or\n",
    "threads are waiting on a lock). As a result, an actor’s concurrency is mostly applicable\n",
    "for use cases when a state is populated in a constructor and never changes."
   ]
  },
  {
   "cell_type": "markdown",
   "id": "d83c93da-97bf-40a8-982b-9ee32531a1f4",
   "metadata": {},
   "source": [
    "### E5\n",
    "**To create an actor that uses asyncio, you need to define at least one async method.**\n",
    "In this case, Ray will create an asyncio event loop for executing the actor’s methods.\n",
    "Submitting tasks to these actors is the same from the caller’s perspective as submitting\n",
    "tasks to a regular actor. The only difference is that when the task is run on the actor,\n",
    "it is posted to an asyncio event loop running in a background thread or thread pool\n",
    "instead of running directly on the main thread. (Note that using blocking ray.get or\n",
    "ray.wait calls inside an async actor method is not allowed, because they will block\n",
    "the execution of the event loop.)"
   ]
  },
  {
   "cell_type": "code",
   "execution_count": 16,
   "id": "72825de2-40ca-4530-bf21-62b5c3cc73b8",
   "metadata": {},
   "outputs": [
    {
     "name": "stdout",
     "output_type": "stream",
     "text": [
      "\u001b[2m\u001b[36m(Account pid=20546)\u001b[0m Restoring state {'balance': 190.0, 'minimal': 20.0}\n",
      "\u001b[2m\u001b[36m(AsyncActor pid=20547)\u001b[0m Actor waiting for 2 sec\n",
      "\u001b[2m\u001b[36m(AsyncActor pid=20547)\u001b[0m Actor waiting for 5 sec\n",
      "\u001b[2m\u001b[36m(AsyncActor pid=20547)\u001b[0m Actor waiting for 3 sec\n",
      "\u001b[2m\u001b[36m(AsyncActor pid=20547)\u001b[0m Actor slept for 1 sec\n",
      "\u001b[2m\u001b[36m(AsyncActor pid=20547)\u001b[0m Actor slept for 1 sec\n",
      "\u001b[2m\u001b[36m(AsyncActor pid=20547)\u001b[0m Actor slept for 1 sec\n",
      "\u001b[2m\u001b[36m(AsyncActor pid=20547)\u001b[0m Actor slept for 2 sec\n",
      "\u001b[2m\u001b[36m(AsyncActor pid=20547)\u001b[0m Actor slept for 2 sec\n",
      "\u001b[2m\u001b[36m(AsyncActor pid=20547)\u001b[0m Actor slept for 2 sec\n",
      "\u001b[2m\u001b[36m(AsyncActor pid=20547)\u001b[0m Actor slept for 3 sec\n",
      "\u001b[2m\u001b[36m(AsyncActor pid=20547)\u001b[0m Actor slept for 3 sec\n",
      "\u001b[2m\u001b[36m(AsyncActor pid=20547)\u001b[0m Actor slept for 4 sec\n",
      "3 5 2\n"
     ]
    }
   ],
   "source": [
    "import asyncio\n",
    "\n",
    "#tag::actor[]\n",
    "@ray.remote\n",
    "class AsyncActor:\n",
    "    async def computation(self, num):\n",
    "        print(f'Actor waiting for {num} sec')\n",
    "        for x in range(num):\n",
    "            await asyncio.sleep(1)\n",
    "            print(f'Actor slept for {x+1} sec')\n",
    "        return num\n",
    "#end::actor[]\n",
    "\n",
    "actor = AsyncActor.options(max_concurrency=5).remote()\n",
    "\n",
    "r1, r2, r3 = ray.get([actor.computation.remote(3),\n",
    "        actor.computation.remote(5), actor.computation.remote(2)])\n",
    "\n",
    "print(r1, r2, r3)"
   ]
  },
  {
   "cell_type": "markdown",
   "id": "32c5b261-98a7-457d-8053-319b8cd57b48",
   "metadata": {},
   "source": [
    "Because the method computation is defined as async, Ray will create an async actor.\n",
    "Note that unlike ordinary async methods, which require await to invoke them, using\n",
    "Ray async actors does not require any special invocation semantics. Additionally, Ray\n",
    "allows you to specify the max concurrency for the async actor’s execution during the\n",
    "actor’s creation:\n",
    "actor = AsyncActor.options(max_concurrency=5).remote()\n",
    "To create a threaded actor, you need to specify max_concurrency during actor cre‐\n",
    "ation (Example 4-13).\n"
   ]
  },
  {
   "cell_type": "code",
   "execution_count": 17,
   "id": "9ec462cd-bc3f-4ea7-b935-8d1b31a825d8",
   "metadata": {},
   "outputs": [
    {
     "name": "stdout",
     "output_type": "stream",
     "text": [
      "\u001b[2m\u001b[36m(AsyncActor pid=20547)\u001b[0m Actor slept for 5 sec\n",
      "\u001b[2m\u001b[36m(ThreadedActor pid=20548)\u001b[0m Actor waiting for 2 sec\n",
      "\u001b[2m\u001b[36m(ThreadedActor pid=20548)\u001b[0m Actor waiting for 5 sec\n",
      "\u001b[2m\u001b[36m(ThreadedActor pid=20548)\u001b[0m Actor waiting for 3 sec\n",
      "3 5 2\n"
     ]
    }
   ],
   "source": [
    "from time import sleep\n",
    "\n",
    "@ray.remote\n",
    "class ThreadedActor:\n",
    "    def computation(self, num):\n",
    "        print(f'Actor waiting for {num} sec')\n",
    "        for x in range(num):\n",
    "            sleep(1)\n",
    "            print(f'Actor slept for {x+1} sec')\n",
    "        return num\n",
    "\n",
    "actor = ThreadedActor.options(max_concurrency=3).remote()\n",
    "\n",
    "r1, r2, r3 = ray.get([actor.computation.remote(3),\n",
    "                      actor.computation.remote(5), actor.computation.remote(2)])\n",
    "\n",
    "print(r1, r2, r3)"
   ]
  },
  {
   "attachments": {},
   "cell_type": "markdown",
   "id": "c0fa52d7-8053-4278-84f0-1f646e6b293a",
   "metadata": {},
   "source": [
    "**Because both async and threaded actors are use max_concurrency,\n",
    "the type of actor created might be a little confusing. The thing\n",
    "to remember is that if max_concurrency is used, the actor can be\n",
    "either async or threaded. If at least one of the actor’s methods is\n",
    "async, the actor is async; otherwise, it is a threaded one.**"
   ]
  },
  {
   "cell_type": "markdown",
   "id": "c383ecb1-8bf4-4e7f-95b0-ca1edbaab916",
   "metadata": {},
   "source": [
    "So, which scaling approach should we use for our implementation? “[Multiprocessing\n",
    "vs. Threading vs. AsyncIO in Python](https://leimao.github.io/blog/Python-Concurrency-High-Level/)” by Lei Mao provides a good summary of\n",
    "features for various approaches"
   ]
  },
  {
   "attachments": {
    "e97017e6-e466-4ee2-b34b-f528153ce32c.png": {
     "image/png": "[encoded data removed]"
    }
   },
   "cell_type": "markdown",
   "id": "474bbddb-fdb4-4374-97d7-fe3cec288c7a",
   "metadata": {},
   "source": [
    "![Screenshot 2023-10-20 at 13.53.39.png](attachment:e97017e6-e466-4ee2-b34b-f528153ce32c.png)"
   ]
  },
  {
   "cell_type": "markdown",
   "id": "c1cd9195-876c-449e-8932-7d5994b9f9ad",
   "metadata": {},
   "source": [
    "### Ray Remote Actors Best Practices\n",
    "Because Ray remote actors are effectively remote functions, all the Ray remote best\r\n",
    "practices described in the previous chapter are applicable. In addition, Ray has some\r\n",
    "actor-specific best practices.\r"
   ]
  },
  {
   "cell_type": "markdown",
   "id": "da8b2971-3b35-4b2d-a7b4-073b1f9d9b25",
   "metadata": {},
   "source": [
    "As mentioned before, Ray offers support for actors’ fault tolerance. Specifically\r\n",
    "for actors, you can specify max_restarts to automatically enable restarting for\r\n",
    "Ray actors. When your actor or the node hosting that actor crashes, the actor\r\n",
    "will be automatically reconstructed. However, this doesn’t provide ways for you to\r\n",
    "restore application-level states in your actor. Consider actor persistence approaches,\r\n",
    "described in this chapter to ensure restoration of execution-level states as well."
   ]
  },
  {
   "cell_type": "markdown",
   "id": "56682fdf-5cd8-41b5-bb48-7992792035c1",
   "metadata": {},
   "source": [
    "If your applications have global variables that you have to change, do not change\n",
    "them in remote functions. Instead, use actors to encapsulate them and access them\n",
    "through the actor’s methods. This is because remote functions are running in differ‐\n",
    "ent processes and do not share the same address space. As a result, these changes are\n",
    "not reflected across Ray driver and remote functions"
   ]
  },
  {
   "cell_type": "markdown",
   "id": "51e8d4c1-d115-4037-ba56-eeaac24a05b4",
   "metadata": {},
   "source": [
    "One of the common application use cases is the execution of the same remote\n",
    "function many times for different datasets. Using the remote functions directly can\n",
    "cause delays because of the creation of new processes for function. This approach can\n",
    "also overwhelm the Ray cluster with a large number of processes. A more controlled\n",
    "option is to use the actor’s pool. In this case, a pool provides a controlled set of\n",
    "workers that are readily available (with no process creation delay) for execution. As\n",
    "the pool is maintaining its requests queue, the programming model for this option is identical to starting independent remote functions but provides a better-controlled\n",
    "execution environment"
   ]
  },
  {
   "cell_type": "markdown",
   "id": "3ddd7c9e-e871-45b1-b6f2-e6985bb17c06",
   "metadata": {},
   "source": [
    "### Conclusion\n",
    "In this chapter, you learned how to use Ray remote actors to implement stateful\n",
    "execution in Ray. You learned about the actor model and how to implement Ray\n",
    "remote actors. Note that Ray internally heavily relies on using actors—for example,\n",
    "for multinode synchronization, streaming (see Chapter 6), and microservices imple‐\n",
    "mentation (see Chapter 7). It is also widely used for ML implementations; see, for\n",
    "example, use of actors for implementing a parameter server."
   ]
  },
  {
   "cell_type": "markdown",
   "id": "a8cdb2eb-19c8-489e-991c-00c9833e12c7",
   "metadata": {},
   "source": [
    "You also learned how to improve an actor’s reliability by implementing an actor’s\n",
    "persistence and saw a simple example of persistence implementation. Finally, you learned about the options that Ray provides for scaling actors, their\n",
    "implementation, and trade-offs. In the next chapter, we will discuss additional Ray design details."
   ]
  }
 ],
 "metadata": {
  "kernelspec": {
   "display_name": "Python 3 (ipykernel)",
   "language": "python",
   "name": "python3"
  },
  "language_info": {
   "codemirror_mode": {
    "name": "ipython",
    "version": 3
   },
   "file_extension": ".py",
   "mimetype": "text/x-python",
   "name": "python",
   "nbconvert_exporter": "python",
   "pygments_lexer": "ipython3",
   "version": "3.10.13"
  }
 },
 "nbformat": 4,
 "nbformat_minor": 5
}
