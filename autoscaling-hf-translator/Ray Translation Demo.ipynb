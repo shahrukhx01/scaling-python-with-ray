{
 "cells": [
  {
   "cell_type": "markdown",
   "id": "138aca05-b216-4ed5-a202-8063ef68ce85",
   "metadata": {},
   "source": [
    "`serve run translator:translator_app `"
   ]
  },
  {
   "cell_type": "code",
   "execution_count": 1,
   "id": "047a2753-d0c2-4c0a-9d1b-8a762001a18c",
   "metadata": {},
   "outputs": [],
   "source": [
    "import ray\n",
    "import time\n",
    "from time import perf_counter\n",
    "import requests"
   ]
  },
  {
   "cell_type": "code",
   "execution_count": 2,
   "id": "867c75f9-f285-4a2b-aaf7-e70d615e2202",
   "metadata": {},
   "outputs": [],
   "source": [
    "@ray.remote\n",
    "def query_backend(text=\"Hello world!\"):\n",
    "    response = requests.post(\"http://127.0.0.1:8000/\", json=text)\n",
    "    return response.text\n"
   ]
  },
  {
   "cell_type": "code",
   "execution_count": 3,
   "id": "ca5fe340-a536-4994-87e0-64b92a176524",
   "metadata": {},
   "outputs": [],
   "source": [
    "def as_available(things):\n",
    " # Make the futures\n",
    " futures = list(map(lambda x: query_backend.remote(x), things))\n",
    " # print(ray.get(futures[0]))\n",
    " # While we still have pending futures\n",
    " while len(futures) > 0:\n",
    "    ready_futures, rest_futures = ray.wait(futures)\n",
    "    # print(f\"Ready {len(ready_futures)} rest {len(rest_futures)}\")\n",
    "    # for id in ready_futures:\n",
    "    #     print(f'completed value {id}, result {ray.get(id)}')\n",
    "        # time.sleep(1) # Business logic goes here\n",
    "    # We just need to wait on the ones that are not yet available\n",
    "    futures = rest_futures\n"
   ]
  },
  {
   "cell_type": "code",
   "execution_count": 4,
   "id": "cdbe1a68-bd15-40d5-a5fd-7210d12c8df7",
   "metadata": {},
   "outputs": [
    {
     "name": "stderr",
     "output_type": "stream",
     "text": [
      "2023-10-21 19:50:39,902\tINFO worker.py:1642 -- Started a local Ray instance.\n"
     ]
    },
    {
     "name": "stdout",
     "output_type": "stream",
     "text": [
      "Elapsed time during the 3 requests in seconds: 2.4955870830162894\n"
     ]
    }
   ],
   "source": [
    "things = [\"Hello world!\", \"How are you?\", \"The sun is shinning!\"] \n",
    "t1_start = perf_counter() \n",
    "as_available(things)\n",
    "t1_stop = perf_counter()\n",
    "print(f\"Elapsed time during the {len(things)} requests in seconds:\",\n",
    "                                        t1_stop-t1_start)"
   ]
  },
  {
   "cell_type": "code",
   "execution_count": 5,
   "id": "0551f0a1-ef6f-4f25-9dc5-3334f9eba4af",
   "metadata": {},
   "outputs": [],
   "source": [
    "from transformers import pipeline\n",
    "\n",
    "class Translator:\n",
    "    def __init__(self):\n",
    "        # Load model\n",
    "        self.model = pipeline(\"translation_en_to_de\", model=\"t5-small\")\n",
    "\n",
    "    def translate(self, text: str) -> str:\n",
    "        # Run inference\n",
    "        model_output = self.model(text)\n",
    "\n",
    "        # Post-process output to return only the translation text\n",
    "        translation = model_output[0][\"translation_text\"]\n",
    "\n",
    "        return translation\n"
   ]
  },
  {
   "cell_type": "code",
   "execution_count": null,
   "id": "0832fd51-9d65-4ce8-89ec-6724696dbd4b",
   "metadata": {},
   "outputs": [],
   "source": [
    "t1_start = perf_counter() \n",
    "list(map(lambda x: Translator().translate(x), things))\n",
    "t1_stop = perf_counter()\n",
    "print(f\"Elapsed time during the {len(things)} requests in seconds:\",\n",
    "                                        t1_stop-t1_start)"
   ]
  }
 ],
 "metadata": {
  "kernelspec": {
   "display_name": "Python 3 (ipykernel)",
   "language": "python",
   "name": "python3"
  },
  "language_info": {
   "codemirror_mode": {
    "name": "ipython",
    "version": 3
   },
   "file_extension": ".py",
   "mimetype": "text/x-python",
   "name": "python",
   "nbconvert_exporter": "python",
   "pygments_lexer": "ipython3",
   "version": "3.10.13"
  }
 },
 "nbformat": 4,
 "nbformat_minor": 5
}
