{
 "cells": [
  {
   "cell_type": "code",
   "execution_count": 1,
   "metadata": {},
   "outputs": [],
   "source": [
    "import ray"
   ]
  },
  {
   "cell_type": "code",
   "execution_count": null,
   "id": "b3174437",
   "metadata": {},
   "outputs": [
    {
     "ename": "",
     "evalue": "",
     "output_type": "error",
     "traceback": [
      "\u001b[1;31mRunning cells with '.venv' requires the ipykernel package.\n",
      "\u001b[1;31mRun the following command to install 'ipykernel' into the Python environment. \n",
      "\u001b[1;31mCommand: '/mnt/d/scaling-python-with-ray/.venv/bin/python -m pip install ipykernel -U --force-reinstall'"
     ]
    }
   ],
   "source": [
    "# %pip install ray pandas pyarrow tqdm"
   ]
  },
  {
   "cell_type": "code",
   "execution_count": 2,
   "id": "166198fc",
   "metadata": {},
   "outputs": [
    {
     "data": {
      "text/plain": [
       "'Running on DESKTOP-URMGSA4 in pid 25024'"
      ]
     },
     "execution_count": 2,
     "metadata": {},
     "output_type": "execute_result"
    }
   ],
   "source": [
    "def hi():\n",
    " import os\n",
    " import socket\n",
    " return f\"Running on {socket.gethostname()} in pid {os.getpid()}\"\n",
    "hi()"
   ]
  },
  {
   "cell_type": "markdown",
   "id": "3f540975",
   "metadata": {},
   "source": [
    "You can use the ray.remote decorator to create a remote function. Calling remote\n",
    "functions is a bit different from calling local ones and is done by calling .remote on\n",
    "the function. Ray will immediately return a future when you call a remote function\n",
    "instead of blocking for the result. You can use ray.get to get the values returned in\n",
    "those futures."
   ]
  },
  {
   "cell_type": "code",
   "execution_count": 3,
   "id": "ed88491c",
   "metadata": {},
   "outputs": [
    {
     "name": "stderr",
     "output_type": "stream",
     "text": [
      "2023-10-15 21:59:14,696\tINFO worker.py:1642 -- Started a local Ray instance.\n"
     ]
    },
    {
     "data": {
      "text/plain": [
       "'Running on DESKTOP-URMGSA4 in pid 28186'"
      ]
     },
     "execution_count": 3,
     "metadata": {},
     "output_type": "execute_result"
    }
   ],
   "source": [
    "@ray.remote\n",
    "def remote_hi():\n",
    " import os\n",
    " import socket\n",
    " return f\"Running on {socket.gethostname()} in pid {os.getpid()}\"\n",
    "future = remote_hi.remote()\n",
    "ray.get(future)"
   ]
  },
  {
   "cell_type": "markdown",
   "id": "cd79eb5b",
   "metadata": {},
   "source": [
    "When you run these two examples, you’ll see that the first is executed in the same\n",
    "process, and that Ray schedules the second one in another process. When we run\n",
    "the two examples, we get Running on jupyter-holdenk in pid 33 and Running on\n",
    "jupyter-holdenk in pid 173, respectively."
   ]
  },
  {
   "cell_type": "markdown",
   "id": "18299aab",
   "metadata": {},
   "source": [
    "## Sleepy task\n",
    "An easy (although artificial) way to understand how remote futures can help is by\n",
    "making an intentionally slow function (in our case, slow_task) and having Python\n",
    "compute in regular function calls and Ray remote calls"
   ]
  },
  {
   "cell_type": "code",
   "execution_count": 4,
   "id": "ea031dd2",
   "metadata": {},
   "outputs": [
    {
     "name": "stdout",
     "output_type": "stream",
     "text": [
      "In sequence 40.037900334998994, in parallel 5.43759268100257\n"
     ]
    }
   ],
   "source": [
    "import timeit\n",
    "def slow_task(x):\n",
    " import time\n",
    " time.sleep(2) # Do something sciency/business\n",
    " return x\n",
    "\n",
    "@ray.remote\n",
    "def remote_task(x):\n",
    " return slow_task(x)\n",
    "\n",
    "things = range(20)\n",
    "very_slow_result = map(slow_task, things)\n",
    "slowish_result = map(lambda x: remote_task.remote(x), things)\n",
    "\n",
    "slow_time = timeit.timeit(lambda: list(very_slow_result), number=1)\n",
    "fast_time = timeit.timeit(lambda: list(ray.get(list(slowish_result))), number=1)\n",
    "\n",
    "print(f\"In sequence {slow_time}, in parallel {fast_time}\")"
   ]
  },
  {
   "cell_type": "markdown",
   "id": "125a2462",
   "metadata": {},
   "source": [
    "When you run this code, you’ll see that by using Ray remote functions, your code is able to execute multiple remote functions at the same time. While you can do this without Ray by using multiprocessing, Ray handles all of the details for you and can also eventually scale up to multiple machines"
   ]
  },
  {
   "cell_type": "markdown",
   "id": "29a762b8",
   "metadata": {},
   "source": [
    "## Nested and chained tasks\n",
    "Ray is notable in the distributed processing world for allowing nested and chained\n",
    "tasks. Launching more tasks inside other tasks can make certain kinds of recursive\n",
    "algorithms easier to implement.\n",
    "One of the more straightforward examples using nested tasks is a web crawler. In the\n",
    "web crawler, each page we visit can launch multiple additional visits to the links on\n",
    "that page,"
   ]
  },
  {
   "cell_type": "code",
   "execution_count": 5,
   "id": "f45433fb",
   "metadata": {},
   "outputs": [],
   "source": [
    "@ray.remote\n",
    "def crawl(url, depth=0, maxdepth=1, maxlinks=4):\n",
    " links = []\n",
    " link_futures = []\n",
    " import requests\n",
    " from bs4 import BeautifulSoup\n",
    " try:\n",
    "    f = requests.get(url)\n",
    "    links += [(url, f.text)]\n",
    "    if (depth > maxdepth):\n",
    "        return links # base case\n",
    "    soup = BeautifulSoup(f.text, 'html.parser')\n",
    "    c = 0\n",
    "    for link in soup.find_all('a'):\n",
    "        try:\n",
    "            c = c + 1\n",
    "            link_futures += [crawl.remote(link[\"href\"], depth=(depth+1),\n",
    "            maxdepth=maxdepth)]\n",
    "        # Don't branch too much; we're still in local mode and the web is big\n",
    "            if c > maxlinks:\n",
    "                break\n",
    "        except:\n",
    "            pass\n",
    "    for r in ray.get(link_futures):\n",
    "        links += r\n",
    "    return links\n",
    " except requests.exceptions.InvalidSchema:\n",
    "    return [] # Skip nonweb links\n",
    " except requests.exceptions.MissingSchema:\n",
    "    return [] # Skip nonweb links\n",
    "#ray.get(crawl.remote(\"http://holdenkarau.com/\"))"
   ]
  },
  {
   "cell_type": "markdown",
   "id": "bfa8fe70",
   "metadata": {},
   "source": [
    "## Data Hello World\n",
    "Ray has a somewhat limited dataset API for working with structured data.\n",
    "Apache Arrow powers Ray’s Datasets API. Arrow is a column-oriented, language-independent format with some popular operations. Many popular tools support\n",
    "Arrow, allowing easy transfer between them (such as Spark, Ray, Dask, and\n",
    "TensorFlow).\n",
    "Ray only recently added keyed aggregations on datasets with version 1.9. The most\n",
    "popular distributed data example is a word count, which requires aggregates. Instead\n",
    "of using these, we can perform embarrassingly parallel tasks, such as map transfor‐\n",
    "mations, by constructing a dataset of web pages"
   ]
  },
  {
   "cell_type": "code",
   "execution_count": 6,
   "id": "8a77cc79",
   "metadata": {},
   "outputs": [],
   "source": [
    "urls = ray.data.from_items([\n",
    " \"https://github.com/scalingpythonml/scalingpythonml\",\n",
    " \"https://github.com/ray-project/ray\"])\n",
    "def fetch_page(url):\n",
    "    import requests\n",
    "    f = requests.get(url)\n",
    "    return f.text\n",
    "pages = urls.map(fetch_page)\n",
    "# Look at a page to make sure it worked\n",
    "# pages.take(1)"
   ]
  },
  {
   "cell_type": "markdown",
   "id": "3c6f9cec",
   "metadata": {},
   "source": [
    "If you want a full-featured DataFrame API, you can convert your Ray dataset into\n",
    "Dask"
   ]
  },
  {
   "cell_type": "markdown",
   "id": "f25eb94d",
   "metadata": {},
   "source": [
    "## Actor Hello World\n",
    "One of the unique parts of Ray is its emphasis on actors. Actors give you tools to\n",
    "manage the execution state, which is one of the more challenging parts of scaling\n",
    "systems. Actors send and receive messages, updating their state in response. These\n",
    "messages can come from other actors, programs, or your main execution thread with\n",
    "the Ray client.\n",
    "<br/><br/>\n",
    "For every actor, Ray starts a dedicated process. Each actor has a mailbox of messages\n",
    "waiting to be processed. When you call an actor, Ray adds a message to the corresponding mailbox, which allows Ray to serialize message processing, thus avoiding\n",
    "expensive distributed locks. Actors can return values in response to messages, so when you send a message to an actor, Ray immediately returns a future so you can\n",
    "fetch the value when the actor is done processing your message.\n",
    "<br/><br/>\n",
    "Ray actors are created and called similarly to remote functions but use Python\n",
    "classes, which gives the actor a place to store state. You can see this in action by\n",
    "modifying the classic “Hello World” example to greet you in sequence,"
   ]
  },
  {
   "cell_type": "code",
   "execution_count": 7,
   "id": "90b0eccb",
   "metadata": {},
   "outputs": [
    {
     "name": "stdout",
     "output_type": "stream",
     "text": [
      "Hi user #1\n",
      "Hi user #2\n"
     ]
    }
   ],
   "source": [
    "@ray.remote\n",
    "class HelloWorld(object):\n",
    "    def __init__(self):\n",
    "        self.value = 0\n",
    "    def greet(self):\n",
    "        self.value += 1\n",
    "        return f\"Hi user #{self.value}\"\n",
    "# Make an instance of the actor\n",
    "hello_actor = HelloWorld.remote()\n",
    "# Call the actor\n",
    "print(ray.get(hello_actor.greet.remote()))\n",
    "print(ray.get(hello_actor.greet.remote()))"
   ]
  },
  {
   "cell_type": "markdown",
   "id": "13dd314e",
   "metadata": {},
   "source": [
    "Actors are still more expensive than lock-free remote functions, which can be scaled horizontally. For exam‐\n",
    "ple, lots of workers calling the same actor to update model weights will still be slower than embarrassingly\n",
    "parallel operations"
   ]
  }
 ],
 "metadata": {
  "kernelspec": {
   "display_name": "ray",
   "language": "python",
   "name": "python3"
  },
  "language_info": {
   "codemirror_mode": {
    "name": "ipython",
    "version": 3
   },
   "file_extension": ".py",
   "mimetype": "text/x-python",
   "name": "python",
   "nbconvert_exporter": "python",
   "pygments_lexer": "ipython3",
   "version": "3.10.12"
  }
 },
 "nbformat": 4,
 "nbformat_minor": 5
}
